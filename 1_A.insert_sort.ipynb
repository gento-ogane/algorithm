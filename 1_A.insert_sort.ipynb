{
 "cells": [
  {
   "cell_type": "code",
   "execution_count": 4,
   "metadata": {},
   "outputs": [
    {
     "ename": "SyntaxError",
     "evalue": "invalid character in identifier (<ipython-input-4-00afc5c1b7c0>, line 8)",
     "output_type": "error",
     "traceback": [
      "\u001b[0;36m  File \u001b[0;32m\"<ipython-input-4-00afc5c1b7c0>\"\u001b[0;36m, line \u001b[0;32m8\u001b[0m\n\u001b[0;31m    l[j+1]=v　#jはwhile文で引かれているので、+1しておく\u001b[0m\n\u001b[0m            ^\u001b[0m\n\u001b[0;31mSyntaxError\u001b[0m\u001b[0;31m:\u001b[0m invalid character in identifier\n"
     ]
    }
   ],
   "source": [
    "for i in range(1,n):#比べる必要があり、２個から始める。\n",
    "    v=l[i]\n",
    "    j=i-1\n",
    "    while j>=0 and v<l[j]:#後ろから並べていく\n",
    "        l[j+1]=l[j]\n",
    "        j-=1\n",
    "    l[j+1]=v　#jはwhile文で引かれているので、+1しておく\n",
    "    print(*l)"
   ]
  },
  {
   "cell_type": "markdown",
   "metadata": {},
   "source": [
    "i(未ソート部分)とj(ソートの検索)とv(A[i]の値を一時保持)で構成\n",
    "jはずらす側から数える必要がある(つまり→から)ので、whileをつかうことができると楽である。"
   ]
  },
  {
   "cell_type": "code",
   "execution_count": 13,
   "metadata": {},
   "outputs": [
    {
     "name": "stdout",
     "output_type": "stream",
     "text": [
      "6\n",
      "5 2 4 6 1 3\n"
     ]
    }
   ],
   "source": [
    "n = int(input())\n",
    "l = list(map(int, input().split()))"
   ]
  },
  {
   "cell_type": "code",
   "execution_count": 14,
   "metadata": {},
   "outputs": [
    {
     "data": {
      "text/plain": [
       "[5, 2, 4, 6, 1, 3]"
      ]
     },
     "execution_count": 14,
     "metadata": {},
     "output_type": "execute_result"
    }
   ],
   "source": [
    "n\n",
    "l"
   ]
  },
  {
   "cell_type": "code",
   "execution_count": 15,
   "metadata": {},
   "outputs": [],
   "source": [
    "def inserted_sort(r,n):\n",
    "    for i in range(1,n):#1からでよい、「ソート済みj領域」と「未ソートi」を比べるアルゴリズムなので\n",
    "        v=r[i]#ずらす必要が会った時に、右端が上書きされてしまうので、格納しておく場所\n",
    "        j=i-1#A[i]の一つ左から始める\n",
    "        while j>=0 and r[j]<v:#jは0まで満遍なくみる。入れ替えるポイントを見つけ次第反応する。>で昇順、<で降順\n",
    "            r[j+1]=r[j]#右へずらしていく。\n",
    "            j-=1#jは右端から数えているので、-する\n",
    "        r[j+1]=v#ループ抜けたあとに処理するが、ここでjはwhile文で引かれているので、+1しておく\n",
    "    print(*r)"
   ]
  },
  {
   "cell_type": "code",
   "execution_count": 16,
   "metadata": {},
   "outputs": [
    {
     "name": "stdout",
     "output_type": "stream",
     "text": [
      "6 5 4 3 2 1\n"
     ]
    }
   ],
   "source": [
    "inserted_sort(l,n)"
   ]
  },
  {
   "cell_type": "code",
   "execution_count": 8,
   "metadata": {},
   "outputs": [
    {
     "name": "stdout",
     "output_type": "stream",
     "text": [
      "6\n",
      "5 2 4 6 1 3\n"
     ]
    }
   ],
   "source": [
    "n = int(input())\n",
    "l = list(map(int, input().split()))\n"
   ]
  },
  {
   "cell_type": "code",
   "execution_count": null,
   "metadata": {},
   "outputs": [],
   "source": [
    "def a(r,n):\n",
    "    for i in range(1,n):\n",
    "        v=r[i]\n",
    "        j=i-1\n",
    "        while j>=0 and r[j]<[i]:\n",
    "            r[j+1]=r[j]\n",
    "        j-=1\n",
    "        r[j+1]=v\n",
    "    "
   ]
  }
 ],
 "metadata": {
  "kernelspec": {
   "display_name": "Python 3",
   "language": "python",
   "name": "python3"
  },
  "language_info": {
   "codemirror_mode": {
    "name": "ipython",
    "version": 3
   },
   "file_extension": ".py",
   "mimetype": "text/x-python",
   "name": "python",
   "nbconvert_exporter": "python",
   "pygments_lexer": "ipython3",
   "version": "3.7.4"
  }
 },
 "nbformat": 4,
 "nbformat_minor": 2
}
