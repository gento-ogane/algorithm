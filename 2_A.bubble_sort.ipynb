{
 "cells": [
  {
   "cell_type": "markdown",
   "metadata": {},
   "source": [
    "バブルソートのメリットは、なんと言っても実装の容易さです。さまざまなソートアルゴリズムの中では、実装がもっとも簡単なアルゴリズムの一つといえます。\n",
    "それに対し、デメリットは、処理のステップ数の多さです。要素の個数をnとすると、必ず n(n - 1)/2 回のスキャンが必要になります。つまり、リストの要素が1000あれば、499500回のスキャンが必要になるのです。\n",
    "このようなことから、バブルソートは、要素数が少ない簡単なリストで用いることが好ましいアルゴリズムです。\n",
    "計算量はO(n-1)+O(n-2)O(n^2)\n",
    "\n",
    "ポイント:未ソート部を右端からみていき、隣接するやつで入れ替える。よりも自身が小さかったら入れ替わる。\n",
    "安定的なソートである。"
   ]
  },
  {
   "cell_type": "code",
   "execution_count": 5,
   "metadata": {},
   "outputs": [
    {
     "name": "stdout",
     "output_type": "stream",
     "text": [
      "5\n",
      "5 3 2 4 1\n"
     ]
    }
   ],
   "source": [
    "n = int(input())\n",
    "R = [int(x) for x in input().split()]#リスト内包表記"
   ]
  },
  {
   "cell_type": "code",
   "execution_count": 17,
   "metadata": {},
   "outputs": [
    {
     "data": {
      "text/plain": [
       "[5, 3, 2, 4, 1]"
      ]
     },
     "execution_count": 17,
     "metadata": {},
     "output_type": "execute_result"
    }
   ],
   "source": [
    "R"
   ]
  },
  {
   "cell_type": "code",
   "execution_count": 20,
   "metadata": {},
   "outputs": [],
   "source": [
    "def bubble_sort(r):\n",
    "    flag=True\n",
    "    i=0\n",
    "    count=0\n",
    "    while flag:\n",
    "        flag=False\n",
    "        for i in range(n-1,i,-1):#iは1でとまらないとi-1が-1となってしまう\n",
    "            if r[i]<r[i-1]:\n",
    "                r[i],r[i-1]=r[i-1],r[i]#swap\n",
    "                count+=1\n",
    "                flag=True#入れ替える条件があって初めてtrueになる\n",
    "    print(r)\n",
    "    print(count)"
   ]
  },
  {
   "cell_type": "code",
   "execution_count": 21,
   "metadata": {},
   "outputs": [
    {
     "name": "stdout",
     "output_type": "stream",
     "text": [
      "[1, 2, 3, 4, 5]\n",
      "0\n"
     ]
    }
   ],
   "source": [
    "bubble_sort(R)"
   ]
  },
  {
   "cell_type": "code",
   "execution_count": 3,
   "metadata": {},
   "outputs": [
    {
     "data": {
      "text/plain": [
       "6"
      ]
     },
     "execution_count": 3,
     "metadata": {},
     "output_type": "execute_result"
    }
   ],
   "source": [
    "o=[1,3,5,7,2,10]\n",
    "len(o)\n"
   ]
  },
  {
   "cell_type": "code",
   "execution_count": 14,
   "metadata": {},
   "outputs": [],
   "source": [
    "def bubble_sort2(r,n):#for分ver\n",
    "    count=0\n",
    "    for i in range(n-1):#一番右にいくと、未ソート部が一つしかないから並び替えなくてよい=>n-1まででよい\n",
    "        for j in range(n-1,i,-1):\n",
    "            if r[j-1]>r[j]:#>で昇順,<で降順\n",
    "                r[j-1],r[j]=r[j],r[j-1]\n",
    "                count+=1\n",
    "    print(*r)"
   ]
  },
  {
   "cell_type": "code",
   "execution_count": 15,
   "metadata": {},
   "outputs": [
    {
     "name": "stdout",
     "output_type": "stream",
     "text": [
      "1 2 3 4 5\n"
     ]
    }
   ],
   "source": [
    "bubble_sort2(R,n)"
   ]
  },
  {
   "cell_type": "code",
   "execution_count": null,
   "metadata": {},
   "outputs": [],
   "source": []
  }
 ],
 "metadata": {
  "kernelspec": {
   "display_name": "Python 3",
   "language": "python",
   "name": "python3"
  },
  "language_info": {
   "codemirror_mode": {
    "name": "ipython",
    "version": 3
   },
   "file_extension": ".py",
   "mimetype": "text/x-python",
   "name": "python",
   "nbconvert_exporter": "python",
   "pygments_lexer": "ipython3",
   "version": "3.7.4"
  }
 },
 "nbformat": 4,
 "nbformat_minor": 2
}
