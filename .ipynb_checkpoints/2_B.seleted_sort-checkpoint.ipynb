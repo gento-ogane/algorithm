{
 "cells": [
  {
   "cell_type": "markdown",
   "metadata": {},
   "source": [
    "バブルソートよりも若干の簡易版。計算量はO(n-1)、(n-2)・・・となりO(n^2-n/2)=O(n^2)\n",
    "挿入ソートの特徴は、人間が並べ替えを行う時に考え方に非常に近いという点です。そのため、理解しやすいソートであると言えるでしょう。さらに、もともとのリストがソート済み状態に近ければ比較的高速に動作しますが、逆順に並んでいるとからり時間を要します。\n",
    "つまり、もともとの要素の並び方によって処理時間が左右されてしまうアルゴリズムなのです。\n",
    "\n",
    "ポイント:未ソートの先頭を最小値(最大値)としてみなし、そこから後ろに検索をかけて最小インデックスを更新して保持。\n",
    "更新し終わったら、先頭をいれかえ、未ソート部の先頭を一つ後ろうにずらす。\n",
    "交換回数をカウントする場合は、インデックスが更新されたかどうかの判定が必要なので、judgeとして判定をしておく"
   ]
  },
  {
   "cell_type": "code",
   "execution_count": 54,
   "metadata": {},
   "outputs": [
    {
     "name": "stdout",
     "output_type": "stream",
     "text": [
      "6\n",
      "5 6 4 2 1 3\n"
     ]
    }
   ],
   "source": [
    "n = int(input())\n",
    "R = [int(x) for x in input().split()]#リスト内包表記"
   ]
  },
  {
   "cell_type": "code",
   "execution_count": 55,
   "metadata": {},
   "outputs": [],
   "source": [
    "def selected_sort(a,n):\n",
    "    count=0#交換回数\n",
    "    judge=False\n",
    "    for i in range(0,n-1):#一個前までやれば全てソートが完了する\n",
    "        minj=i#未ソート部の先頭をminとみなす\n",
    "        for j in range(i,n):\n",
    "            if a[j]<a[minj]:#\n",
    "                minj=j#最小インデックスの更新\n",
    "                judge=True#インデックスが更新されたかどうかの判定\n",
    "        a[i],a[minj]=a[minj],a[i]#最小値と未ソートの先頭をswap\n",
    "        if judge:\n",
    "            count+=1\n",
    "        judge=False\n",
    "    print(*a)\n",
    "    print(count)"
   ]
  },
  {
   "cell_type": "code",
   "execution_count": 56,
   "metadata": {},
   "outputs": [
    {
     "name": "stdout",
     "output_type": "stream",
     "text": [
      "1 2 3 4 5 6\n",
      "4\n"
     ]
    }
   ],
   "source": [
    "selected_sort(R,n)"
   ]
  },
  {
   "cell_type": "code",
   "execution_count": 16,
   "metadata": {},
   "outputs": [
    {
     "data": {
      "text/plain": [
       "0"
      ]
     },
     "execution_count": 16,
     "metadata": {},
     "output_type": "execute_result"
    }
   ],
   "source": [
    "R.index(5)"
   ]
  },
  {
   "cell_type": "code",
   "execution_count": null,
   "metadata": {},
   "outputs": [],
   "source": [
    "inde"
   ]
  },
  {
   "cell_type": "code",
   "execution_count": null,
   "metadata": {},
   "outputs": [],
   "source": []
  }
 ],
 "metadata": {
  "kernelspec": {
   "display_name": "Python 3",
   "language": "python",
   "name": "python3"
  },
  "language_info": {
   "codemirror_mode": {
    "name": "ipython",
    "version": 3
   },
   "file_extension": ".py",
   "mimetype": "text/x-python",
   "name": "python",
   "nbconvert_exporter": "python",
   "pygments_lexer": "ipython3",
   "version": "3.7.4"
  }
 },
 "nbformat": 4,
 "nbformat_minor": 2
}
