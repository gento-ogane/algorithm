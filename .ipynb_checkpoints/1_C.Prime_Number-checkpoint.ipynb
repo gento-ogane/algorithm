{
 "cells": [
  {
   "cell_type": "markdown",
   "metadata": {},
   "source": [
    "「合成数 x は p≤√x を満たす素因子 pをもつ」という性質を利用することによって\n",
    "一度の計算量がO(x)→O(√x)に軽減可能。\n",
    "例えば xが 1,000,000 とすると√x= 1,000 となり、素朴なアルゴリズムの半減どころか 1,000 倍速くなります。"
   ]
  },
  {
   "cell_type": "code",
   "execution_count": 1,
   "metadata": {},
   "outputs": [],
   "source": [
    "import math"
   ]
  },
  {
   "cell_type": "code",
   "execution_count": 51,
   "metadata": {},
   "outputs": [],
   "source": [
    "def isPrime(x):\n",
    "    if x==2:\n",
    "        return True\n",
    "    \n",
    "    if x<2 or x%2==0: #偶数もNG\n",
    "        return False\n",
    "    \n",
    "    i=3\n",
    "    while  i<=math.sqrt(x):\n",
    "        if x%i==0:\n",
    "            return False\n",
    "        i+=2\n",
    "    return True"
   ]
  },
  {
   "cell_type": "markdown",
   "metadata": {},
   "source": [
    "# 回答"
   ]
  },
  {
   "cell_type": "code",
   "execution_count": null,
   "metadata": {},
   "outputs": [],
   "source": [
    "import math\n",
    "\n",
    "def isPrime(x):\n",
    "    if x==2:\n",
    "        return True\n",
    "    \n",
    "    if x<2 or x%2==0: #偶数もNG\n",
    "        return False\n",
    "    \n",
    "    i=3\n",
    "    while  i<=math.sqrt(x):\n",
    "        if x%i==0:\n",
    "            return False\n",
    "        i+=2\n",
    "    return True\n",
    "    \n",
    "n=int(input())#1度目の入力\n",
    "count=0\n",
    "for i in range(n):\n",
    "    a=int(input())\n",
    "    if isPrime(a):\n",
    "        count+=1\n",
    "print(count)"
   ]
  }
 ],
 "metadata": {
  "kernelspec": {
   "display_name": "Python 3",
   "language": "python",
   "name": "python3"
  },
  "language_info": {
   "codemirror_mode": {
    "name": "ipython",
    "version": 3
   },
   "file_extension": ".py",
   "mimetype": "text/x-python",
   "name": "python",
   "nbconvert_exporter": "python",
   "pygments_lexer": "ipython3",
   "version": "3.7.4"
  }
 },
 "nbformat": 4,
 "nbformat_minor": 2
}
