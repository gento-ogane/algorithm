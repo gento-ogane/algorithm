{
 "cells": [
  {
   "cell_type": "code",
   "execution_count": 7,
   "metadata": {},
   "outputs": [
    {
     "name": "stdout",
     "output_type": "stream",
     "text": [
      "5\n",
      "H4 C9 S4 D2 C3\n"
     ]
    }
   ],
   "source": [
    "n = int(input())\n",
    "R = [x for x in input().split()]#リスト内包表記"
   ]
  },
  {
   "cell_type": "code",
   "execution_count": 9,
   "metadata": {},
   "outputs": [],
   "source": [
    "R2=R.copy()"
   ]
  },
  {
   "cell_type": "code",
   "execution_count": 22,
   "metadata": {},
   "outputs": [],
   "source": [
    "def selected_sort(a,n):\n",
    "    for i in range(0,n-1):#一個前までやれば全てソートが完了する\n",
    "        minj=i#未ソート部の先頭をminとみなす\n",
    "        for j in range(i,n):\n",
    "            if a[j][1]<a[minj][1]:#\n",
    "                minj=j#最小インデックスの更新\n",
    "                judge=True#インデックスが更新されたかどうかの判定\n",
    "        a[i],a[minj]=a[minj],a[i]#最小値と未ソートの先頭をswap\n",
    "    print(a)"
   ]
  },
  {
   "cell_type": "code",
   "execution_count": 17,
   "metadata": {},
   "outputs": [],
   "source": [
    "def bubble_sort(r,n):\n",
    "    flag=True\n",
    "    i=0\n",
    "    count=0\n",
    "    while flag:\n",
    "        flag=False\n",
    "        for i in range(n-1,i,-1):#iは1でとまらないとi-1が-1となってしまう\n",
    "            if r[i][1]<r[i-1][1]:\n",
    "                r[i],r[i-1]=r[i-1],r[i]#swap\n",
    "                count+=1\n",
    "                flag=True#入れ替える条件があって初めてtrueになる\n",
    "    print(r)"
   ]
  },
  {
   "cell_type": "code",
   "execution_count": 21,
   "metadata": {},
   "outputs": [],
   "source": [
    "def isStable(a,b):\n",
    "    if R==R2:\n",
    "        print(\"Stable\")\n",
    "    else:\n",
    "        print(\"Not stable\")"
   ]
  },
  {
   "cell_type": "code",
   "execution_count": 20,
   "metadata": {},
   "outputs": [
    {
     "name": "stdout",
     "output_type": "stream",
     "text": [
      "['D2', 'C3', 'H4', 'S4', 'C9']\n",
      "Stable\n"
     ]
    }
   ],
   "source": [
    "bubble_sort(R,n)\n",
    "print(\"Stable\")"
   ]
  },
  {
   "cell_type": "code",
   "execution_count": 26,
   "metadata": {},
   "outputs": [
    {
     "name": "stdout",
     "output_type": "stream",
     "text": [
      "['D2', 'C3', 'S4', 'H4', 'C9']\n",
      "Not stable\n"
     ]
    }
   ],
   "source": [
    "selected_sort(R2,n)\n",
    "isStable(R,R2)"
   ]
  },
  {
   "cell_type": "code",
   "execution_count": null,
   "metadata": {},
   "outputs": [],
   "source": []
  }
 ],
 "metadata": {
  "kernelspec": {
   "display_name": "Python 3",
   "language": "python",
   "name": "python3"
  },
  "language_info": {
   "codemirror_mode": {
    "name": "ipython",
    "version": 3
   },
   "file_extension": ".py",
   "mimetype": "text/x-python",
   "name": "python",
   "nbconvert_exporter": "python",
   "pygments_lexer": "ipython3",
   "version": "3.7.4"
  }
 },
 "nbformat": 4,
 "nbformat_minor": 2
}
