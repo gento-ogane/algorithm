{
 "cells": [
  {
   "cell_type": "markdown",
   "metadata": {},
   "source": [
    "ポイント:\n",
    "最大差と最小値を常に更新するようなO(n)のアルゴリズムで書くことによって、計算量を減らす。\n",
    "max_subとmin_valueを保持しておく\n",
    "マックス差(max_sub)を先に決めることで、最大差(max_sub)のインデックスが最小値(min_value)のインデックスを上回るようにする。"
   ]
  },
  {
   "cell_type": "code",
   "execution_count": 1,
   "metadata": {},
   "outputs": [
    {
     "name": "stdout",
     "output_type": "stream",
     "text": [
      "6\n",
      "5\n"
     ]
    }
   ],
   "source": [
    "N = int(input())\n",
    "max_sub = -1145148101919#とりうる最小の値\n",
    "min_value = int(input())"
   ]
  },
  {
   "cell_type": "code",
   "execution_count": 2,
   "metadata": {},
   "outputs": [
    {
     "name": "stdout",
     "output_type": "stream",
     "text": [
      "3\n",
      "4\n",
      "3\n",
      "2\n"
     ]
    }
   ],
   "source": [
    "for i in range(1,N):\n",
    "    r=int(input())\n",
    "    max_sub=max(max_sub,r-min_value)#最小値\n",
    "    min_value=min(min_value,r)#最小値の保持、毎回更新する"
   ]
  },
  {
   "cell_type": "code",
   "execution_count": 5,
   "metadata": {},
   "outputs": [
    {
     "name": "stdout",
     "output_type": "stream",
     "text": [
      "0\n",
      "1\n",
      "2\n",
      "3\n",
      "4\n",
      "5\n",
      "6\n",
      "7\n",
      "8\n"
     ]
    }
   ],
   "source": [
    "for i in range (0,9):\n",
    "    print(i)"
   ]
  },
  {
   "cell_type": "markdown",
   "metadata": {},
   "source": [
    "正式回答"
   ]
  },
  {
   "cell_type": "code",
   "execution_count": null,
   "metadata": {},
   "outputs": [],
   "source": [
    "N = int(input())\n",
    "max_sub = -1145148101919#とりうる最小の値\n",
    "min_value = int(input())\n",
    "for i in range(1,N):\n",
    "    r=int(input())\n",
    "    max_sub=max(max_sub,r-min_value)#最大差の保持、更新する、min_valueよりも先に更新\n",
    "    min_value=min(min_value,r)#最小値の保持、毎回更新\n",
    "print(max_sub)"
   ]
  }
 ],
 "metadata": {
  "kernelspec": {
   "display_name": "Python 3",
   "language": "python",
   "name": "python3"
  },
  "language_info": {
   "codemirror_mode": {
    "name": "ipython",
    "version": 3
   },
   "file_extension": ".py",
   "mimetype": "text/x-python",
   "name": "python",
   "nbconvert_exporter": "python",
   "pygments_lexer": "ipython3",
   "version": "3.7.4"
  }
 },
 "nbformat": 4,
 "nbformat_minor": 2
}
