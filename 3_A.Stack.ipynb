{
 "cells": [
  {
   "cell_type": "code",
   "execution_count": 56,
   "metadata": {},
   "outputs": [
    {
     "name": "stdout",
     "output_type": "stream",
     "text": [
      "1 2 + 3 4 - *\n"
     ]
    }
   ],
   "source": [
    "r=list(input().split())"
   ]
  },
  {
   "cell_type": "code",
   "execution_count": 69,
   "metadata": {},
   "outputs": [
    {
     "data": {
      "text/plain": [
       "['1', '2', '+', '3', '4', '-', '*']"
      ]
     },
     "execution_count": 69,
     "metadata": {},
     "output_type": "execute_result"
    }
   ],
   "source": [
    "r"
   ]
  },
  {
   "cell_type": "code",
   "execution_count": 70,
   "metadata": {},
   "outputs": [],
   "source": [
    "def reverse_porand(r):\n",
    "    s=[]#stack配列の用意\n",
    "    for i in range(len(r)):#stackは左から読むのが当たり前なので、for文でよい\n",
    "        if r[i]==\"+\":\n",
    "            a=s.pop(-1)\n",
    "            b=s.pop(-1)\n",
    "            s.append(a+b)\n",
    "        elif r[i]==\"-\":\n",
    "            a=s.pop(-1)\n",
    "            b=s.pop(-1)\n",
    "            s.append(b-a)\n",
    "        elif r[i]==\"*\":\n",
    "            a=s.pop(-1)\n",
    "            b=s.pop(-1)\n",
    "            s.append(a*b)\n",
    "        else:\n",
    "            s.append(int(r[i]))#数字なら流す\n",
    "    print(s[-1])"
   ]
  },
  {
   "cell_type": "code",
   "execution_count": 71,
   "metadata": {},
   "outputs": [
    {
     "name": "stdout",
     "output_type": "stream",
     "text": [
      "-3\n"
     ]
    }
   ],
   "source": [
    "reverse_porand(r)"
   ]
  },
  {
   "cell_type": "code",
   "execution_count": null,
   "metadata": {},
   "outputs": [],
   "source": []
  }
 ],
 "metadata": {
  "kernelspec": {
   "display_name": "Python 3",
   "language": "python",
   "name": "python3"
  },
  "language_info": {
   "codemirror_mode": {
    "name": "ipython",
    "version": 3
   },
   "file_extension": ".py",
   "mimetype": "text/x-python",
   "name": "python",
   "nbconvert_exporter": "python",
   "pygments_lexer": "ipython3",
   "version": "3.7.4"
  }
 },
 "nbformat": 4,
 "nbformat_minor": 2
}
